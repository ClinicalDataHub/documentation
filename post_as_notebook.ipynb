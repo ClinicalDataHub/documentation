{
 "cells": [
  {
   "cell_type": "code",
   "execution_count": null,
   "metadata": {
    "collapsed": false
   },
   "outputs": [],
   "source": [
    "import pandas\n",
    "\n",
    "us_cdi_data = pandas.read_csv('U.S._Chronic_Disease_Indicators__CDI_.csv')"
   ]
  },
  {
   "cell_type": "code",
   "execution_count": null,
   "metadata": {
    "collapsed": false
   },
   "outputs": [],
   "source": [
    "us_cdi_data.columns"
   ]
  },
  {
   "cell_type": "code",
   "execution_count": null,
   "metadata": {
    "collapsed": false
   },
   "outputs": [],
   "source": [
    "us_cdi_data.ftypes"
   ]
  },
  {
   "cell_type": "code",
   "execution_count": null,
   "metadata": {
    "collapsed": false
   },
   "outputs": [],
   "source": [
    "us_cdi_data.head(10)"
   ]
  },
  {
   "cell_type": "code",
   "execution_count": null,
   "metadata": {
    "collapsed": false
   },
   "outputs": [],
   "source": [
    "us_cdi_data.tail(5)"
   ]
  },
  {
   "cell_type": "code",
   "execution_count": null,
   "metadata": {
    "collapsed": true
   },
   "outputs": [],
   "source": [
    ""
   ]
  },
  {
   "cell_type": "markdown",
   "metadata": {},
   "source": [
    "---\n",
    "layout: post\n",
    "title:  \"We Heart Pandas\"\n",
    "date:   2017-02-14 13:43:00 -0700\n",
    "tags: python\n",
    "author: Taylor Miller\n",
    "categories: blog\n",
    "excerpt: Imagine a tool that can read in columnar data, manipulate, transpose, derive, query, describe, analyze, visualize and more. That's python's <strong>pandas library!</strong> In our <a href='/py'>healthcare.ai</a> python package, we use pandas extensively under the hood since it is robust, fast and proven in data science. It seemed apropos to introduce you to it.\n",
    "---\n",
    "# We Heart Pandas\n",
    "\n",
    "Imagine a tool that can read in columnar data, manipulate, transpose, derive, query, describe, analyze, visualize and more. That's python's [pandas library](http://pandas.pydata.org/)! In our [healthcare.ai python package](/py), we use pandas extensively under the hood since it is robust, fast and proven in data science. It seemed apropos to introduce you to it.\n",
    "\n",
    "## What is Pandas?\n",
    "\n",
    "Pandas is an amazing data manipulation, cleaning, munging and analysis toolkit [library](http://pandas.pydata.org) for python. It is great for working with structured data from many different sources such as:\n",
    "    \n",
    "- Flat files such as `.xls` Excel spreadsheets or `.csv` files exported from sundry systems\n",
    "- Data from SQL queries.\n",
    "- Time series data.\n",
    "\n",
    "## Pandas Data Structures\n",
    "\n",
    "Pandas has two main data structures:\n",
    "\n",
    "- **Series:** a 1 dimensional structure. Think of this as a row in a table or an list in python. Under the covers it is actually a [numpy ndarray](https://docs.scipy.org/doc/numpy/reference/generated/numpy.ndarray.html), a highly optimized array of fixed size elements.\n",
    "    ```python\n",
    "    ['Doe, John', 54, 23.5, 0, 1, 115]\n",
    "    ```\n",
    "\n",
    "- **DataFrame:** a 2 dimensional structure. For those familiar with R dataframes, this is similar. Think of this as a database table, excel spreadsheet or list of lists:\n",
    "    ```python\n",
    "    [\n",
    "        ['Doe, Jane', F, 54, 23.5, 0, 1],\n",
    "        ['Doe, John', M, 56, 34.2, 0, 0],\n",
    "        ['Doe, Jenny', F, 11, 77.0, 1, 1],\n",
    "        ['Doe, Jake', M, 17, 28.3, 0, 1],\n",
    "        ...\n",
    "    ]\n",
    "    ```\n",
    "\n",
    "## What can pandas do?\n",
    "\n",
    "The short answer? A lot. The long answer?\n",
    "\n",
    "- Robust data IO to/from disparate sources, such as CSV, Excel files, databases, and more.\n",
    "- Missing data handling, aka null handling. When you create a dataframe nulls are repesented by `NaN`.\n",
    "- Easy creation of new and derived columns, as well as deletion.\n",
    "- Grouping functions.\n",
    "- Slicing, joining, and sub-setting datasets\n",
    "- Reshaping and pivoting\n",
    "- Descriptive statistics and summaries of large datasets\n",
    "- Visualization with very little effort\n",
    "\n",
    "## Examples\n",
    "\n",
    "Let's load a sample dataset, get some insight into our data with some easy descriptive statistics, manipulate some columns and explore the data. If you don't have any data of your own to play with, you can always find something interesting from the U.S. Government’s [open data initiative](https://www.data.gov/).\n",
    "\n",
    "I picked up a dataset called [U.S. Chronic Disease Indicators (CDI)\n",
    "](https://catalog.data.gov/dataset/u-s-chronic-disease-indicators-cdi-e50c9).\n",
    "\n",
    "### Load the data\n",
    "\n",
    "First, be sure to load pandas\n",
    "```python\n",
    "import pandas\n",
    "```\n",
    "\n",
    "Let's load the `.csv` file in as a new dataframe:\n",
    "\n",
    "```python\n",
    "us_cdi_data = pandas.read_csv('')\n",
    "```\n",
    "\n",
    "### Initial exploration\n",
    "\n",
    "After I've loaded some data to explore, I always run a few quick commands to get an initial peek at the data structure. The first is `dataframe.columns`, which returns a list of all the column names (if your source has named columns). When you import data, pandas infers the datatype. Running `dataframe.ftypes`\n",
    "\n",
    "The next command I run is `dataframe.head(10)` and `dataframe.tail(5)` to get a peek at the first and last **n** number of rows. This is a good sanity check and an easy way to see some of your data.\n",
    "\n",
    "Run those now:\n",
    "\n",
    "```python\n",
    "us_cdi_data.columns\n",
    "```\n",
    "```python\n",
    "us_cdi_data.ftypes\n",
    "```\n",
    "```python\n",
    "us_cdi_data.head(10)\n",
    "```\n",
    "```python\n",
    "us_cdi_data.tail(5)\n",
    "```\n",
    "\n",
    "#### Accessing columns\n",
    "\n",
    "There are many ways to access a column in your dataframe. Let's say you have a dataframe called `dataframe` that has the following columns:\n",
    "\n",
    "- Age\n",
    "- Gender\n",
    "- State\n",
    "- Height (inches)\n",
    "- Weight (pounds)\n",
    "- Encounter Number\n",
    "\n",
    "While columns can be access directly as an attribute of the dataframe like this `dataframe.Age`, because you may have columns with spaces or other problematic characters, the preferred way to reference a column is with the item bracket notation like this:  `dataframe.['Age']`\n",
    " \n",
    "When you access a column, pandas will return a [pandas Series](http://pandas.pydata.org/pandas-docs/stable/generated/pandas.Series.html).\n",
    "\n",
    "#### Accessing rows\n",
    "\n",
    "Rows can be accessed individually or sliced by index (row number). Running `dataframe[5]` would return the 6th row as a Series. If you wanted to access the rows between 100 and 200 you would run `dataframe[100:200]`. This functions the same as python's list syntax.\n",
    "\n",
    "### Querying Data\n",
    "\n",
    "Pandas has robust query tools built in. For example, to return a dataframe with just patients over the age of 18 you could run `dataframe[dataframe.Age > 18]`, or select just the patients who live in New Mexico `dataframe[dataframe.State == 'NM']`. Perhaps you yearn for something more complex like selecting all records (rows) who have live in a list of states:\n",
    "    \n",
    "```python\n",
    "target_states = ['NM', 'TX', 'AK']\n",
    "dataframe.loc[~dataframe['State'].isin(target_states)]\n",
    "```\n",
    "\n",
    "### Sorting\n",
    "\n",
    "You can sort a dataframe by any column using the `.sort_by` method. If you have a column named 'Age' you could run `dataframe.sort_by('Age')`\n",
    "\n",
    "### Descriptive Stats\n",
    "\n",
    "Pandas has some brilliant descriptive statistics tools built in. After you've loaded some data into a dataframe, you can run `dataframe.summary()` to get a quick overview of your data.\n",
    "\n",
    "### Column calculation and feature engineering\n",
    "\n",
    "Often when you are preparing data for a machine learning model you will want to engineer some features. For example, imagine you had a dataset with patient details and you have weight in pounds and height in inches, but you hypothesise that adding BMI ([body mass index](https://www.nhlbi.nih.gov/health/educational/lose_wt/BMI/bmicalc.htm)) as a feature will help improve your model. Recall that BMI is calculated by dividing a patient's weight in *kg* by the square of their height in *m*. Creating a derived column using pandas is delightfully simple:\n",
    "   ```python\n",
    "   height_in_meters = (dataframe['Height'] / 25.4 ) / 1000\n",
    "   weight_in_kg = dataframe['Weight'] / 2.2\n",
    "   dataframe['BMI'] = weight_in_kg / (height_in_meters ** 2)\n",
    "   ```\n",
    "Using this pattern, columns can be created from arbitrarily complex calculations of other columns (or other data altogether). This makes exploratory feature engineering simple and fast to iterate.\n",
    "\n",
    "## Writing data\n",
    "\n",
    "Once you've done some manipulation, you may want to write the resulting dataframe out to a file or database.\n",
    "\n",
    "### Writing to a file\n",
    "\n",
    "- Dumping a dataframe out to a file is trivial with `dataframe.to_csv('my_filename.csv')`.\n",
    "- Write a dataframe to an excel file is just as easy with `dataframe.to_excel('my_filename.xlsx', sheet_name='My Data'')`\n",
    "\n",
    "### Writing to a database\n",
    "\n",
    "This process is a little more involved since you need to use [sqlalchemy](http://www.sqlalchemy.org/), a python database library that works with many different databases including SQLite, Postgresql, MySQL, Oracle, MS-SQL, Firebird, Sybase and others.\n",
    "\n",
    "Your code will look something like this (assuming you have a MSSQL database and a dataframe called `my_dataframe`).\n",
    "\n",
    "```python\n",
    "import pandas\n",
    "from sqlalchemy import create_engine\n",
    "engine = create_engine('mssql+pyodbc://user:password@my_data_source_name')\n",
    "pandas.to_sql('my_dataframe', engine)\n",
    "```\n",
    "\n",
    "To see how to connect to other databases, see the [sqlalchemy connection engine docs](http://docs.sqlalchemy.org/en/latest/core/engines.html)\n",
    "\n",
    "## How can I learn more?\n",
    "\n",
    "Pandas is a very robust and mature data tool. While this article has shown you some essential functionality, it is well worth exploring the incredible things that it can do. Take a few minutes and browse through the stellar  [pandas docs](http://pandas.pydata.org/pandas-docs/stable/) to broaden your data horizon.\n",
    " \n",
    "If that's not enough, or if you want some more concise references, here is a list of great resources if you are looking to learn more.\n",
    "\n",
    "- Start with this [10 Minutes to pandas](http://pandas.pydata.org/pandas-docs/stable/10min.html) tutorial.\n",
    "- When you've mastered that, run through [Essential Basic Functionality](http://pandas.pydata.org/pandas-docs/stable/basics.html).\n",
    "- When you are ready to visualize some data, check out the comprehensive [Pandas Visualization docs](http://pandas.pydata.org/pandas-docs/stable/visualization.html).\n",
    "- For visual learners like myself, I recommend [Jason Wirth's Visual Pandas talk](https://www.youtube.com/watch?v=9d5-Ti6onew) (26 min youtube video)\n",
    "- For a quick reference card, print out Datacamp's [Pandas Basics Cheatsheet](https://www.datacamp.com/community/blog/python-pandas-cheat-sheet) and tape it to your cubicle.\n",
    "- For details on connecting to databases, see the [Pandas to_sql docs](http://pandas.pydata.org/pandas-docs/stable/generated/pandas.DataFrame.to_sql.html) and the [sqlalchemy database engine docs](http://docs.sqlalchemy.org/en/latest/core/engines.html).\n",
    "- To get started with healthcare machine learning now, see [healthcare.ai](/) for R and Python."
   ]
  },
  {
   "cell_type": "code",
   "execution_count": null,
   "metadata": {
    "collapsed": true
   },
   "outputs": [],
   "source": [
    ""
   ]
  }
 ],
 "metadata": {
  "kernelspec": {
   "display_name": "Python 2",
   "language": "python",
   "name": "python2"
  },
  "language_info": {
   "codemirror_mode": {
    "name": "ipython",
    "version": 2.0
   },
   "file_extension": ".py",
   "mimetype": "text/x-python",
   "name": "python",
   "nbconvert_exporter": "python",
   "pygments_lexer": "ipython2",
   "version": "2.7.6"
  }
 },
 "nbformat": 4,
 "nbformat_minor": 0
}