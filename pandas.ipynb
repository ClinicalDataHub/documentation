{
 "cells": [
  {
   "cell_type": "code",
   "execution_count": 14,
   "metadata": {
    "collapsed": false,
    "deletable": true,
    "editable": true
   },
   "outputs": [],
   "source": [
    "# load pandas\n",
    "import pandas"
   ]
  },
  {
   "cell_type": "code",
   "execution_count": 15,
   "metadata": {
    "collapsed": false,
    "deletable": true,
    "editable": true
   },
   "outputs": [],
   "source": [
    "# Let's load some data from a csv\n",
    "my_dataframe = pandas.read_csv('U.S._Chronic_Disease_Indicators__CDI_.csv')"
   ]
  },
  {
   "cell_type": "code",
   "execution_count": 8,
   "metadata": {
    "collapsed": false,
    "deletable": true,
    "editable": true
   },
   "outputs": [
    {
     "data": {
      "text/plain": [
       "YearStart                      int64:dense\n",
       "YearEnd                        int64:dense\n",
       "LocationAbbr                  object:dense\n",
       "LocationDesc                  object:dense\n",
       "DataSource                    object:dense\n",
       "Topic                         object:dense\n",
       "Question                      object:dense\n",
       "Response                      object:dense\n",
       "DataValueUnit                 object:dense\n",
       "DataValueTypeID               object:dense\n",
       "DataValueType                 object:dense\n",
       "DataValue                     object:dense\n",
       "DataValueAlt                 float64:dense\n",
       "DataValueFootnoteSymbol       object:dense\n",
       "DatavalueFootnote             object:dense\n",
       "LowConfidenceLimit           float64:dense\n",
       "HighConfidenceLimit          float64:dense\n",
       "StratificationCategory1       object:dense\n",
       "Stratification1               object:dense\n",
       "StratificationCategory2       object:dense\n",
       "Stratification2               object:dense\n",
       "StratificationCategory3       object:dense\n",
       "Stratification3               object:dense\n",
       "GeoLocation                   object:dense\n",
       "TopicID                       object:dense\n",
       "QuestionID                    object:dense\n",
       "ResponseID                    object:dense\n",
       "LocationID                    object:dense\n",
       "StratificationCategoryID1     object:dense\n",
       "StratificationID1             object:dense\n",
       "StratificationCategoryID2     object:dense\n",
       "StratificationID2             object:dense\n",
       "StratificationCategoryID3     object:dense\n",
       "StratificationID3             object:dense\n",
       "dtype: object"
      ]
     },
     "execution_count": 8,
     "metadata": {},
     "output_type": "execute_result"
    }
   ],
   "source": [
    "# Look at the datatypes that pandas detected on import\n",
    "my_dataframe.ftypes"
   ]
  },
  {
   "cell_type": "code",
   "execution_count": 9,
   "metadata": {
    "collapsed": false,
    "deletable": true,
    "editable": true
   },
   "outputs": [
    {
     "data": {
      "text/plain": [
       "Index([u'YearStart', u'YearEnd', u'LocationAbbr', u'LocationDesc',\n",
       "       u'DataSource', u'Topic', u'Question', u'Response', u'DataValueUnit',\n",
       "       u'DataValueTypeID', u'DataValueType', u'DataValue', u'DataValueAlt',\n",
       "       u'DataValueFootnoteSymbol', u'DatavalueFootnote', u'LowConfidenceLimit',\n",
       "       u'HighConfidenceLimit', u'StratificationCategory1', u'Stratification1',\n",
       "       u'StratificationCategory2', u'Stratification2',\n",
       "       u'StratificationCategory3', u'Stratification3', u'GeoLocation',\n",
       "       u'TopicID', u'QuestionID', u'ResponseID', u'LocationID',\n",
       "       u'StratificationCategoryID1', u'StratificationID1',\n",
       "       u'StratificationCategoryID2', u'StratificationID2',\n",
       "       u'StratificationCategoryID3', u'StratificationID3'],\n",
       "      dtype='object')"
      ]
     },
     "execution_count": 9,
     "metadata": {},
     "output_type": "execute_result"
    }
   ],
   "source": [
    "# Take a peek the column names\n",
    "my_dataframe.columns"
   ]
  },
  {
   "cell_type": "code",
   "execution_count": 10,
   "metadata": {
    "collapsed": false,
    "deletable": true,
    "editable": true
   },
   "outputs": [
    {
     "data": {
      "text/html": [
       "<div>\n",
       "<table border=\"1\" class=\"dataframe\">\n",
       "  <thead>\n",
       "    <tr style=\"text-align: right;\">\n",
       "      <th></th>\n",
       "      <th>YearStart</th>\n",
       "      <th>YearEnd</th>\n",
       "      <th>LocationAbbr</th>\n",
       "      <th>LocationDesc</th>\n",
       "      <th>DataSource</th>\n",
       "      <th>Topic</th>\n",
       "      <th>Question</th>\n",
       "      <th>Response</th>\n",
       "      <th>DataValueUnit</th>\n",
       "      <th>DataValueTypeID</th>\n",
       "      <th>...</th>\n",
       "      <th>TopicID</th>\n",
       "      <th>QuestionID</th>\n",
       "      <th>ResponseID</th>\n",
       "      <th>LocationID</th>\n",
       "      <th>StratificationCategoryID1</th>\n",
       "      <th>StratificationID1</th>\n",
       "      <th>StratificationCategoryID2</th>\n",
       "      <th>StratificationID2</th>\n",
       "      <th>StratificationCategoryID3</th>\n",
       "      <th>StratificationID3</th>\n",
       "    </tr>\n",
       "  </thead>\n",
       "  <tbody>\n",
       "    <tr>\n",
       "      <th>0</th>\n",
       "      <td>2013</td>\n",
       "      <td>2013</td>\n",
       "      <td>CA</td>\n",
       "      <td>California</td>\n",
       "      <td>YRBSS</td>\n",
       "      <td>Alcohol</td>\n",
       "      <td>Alcohol use among youth</td>\n",
       "      <td>NaN</td>\n",
       "      <td>%</td>\n",
       "      <td>CrdPrev</td>\n",
       "      <td>...</td>\n",
       "      <td>ALC</td>\n",
       "      <td>ALC1_1</td>\n",
       "      <td>NaN</td>\n",
       "      <td>6</td>\n",
       "      <td>OVERALL</td>\n",
       "      <td>OVR</td>\n",
       "      <td>NaN</td>\n",
       "      <td>NaN</td>\n",
       "      <td>NaN</td>\n",
       "      <td>NaN</td>\n",
       "    </tr>\n",
       "    <tr>\n",
       "      <th>1</th>\n",
       "      <td>2013</td>\n",
       "      <td>2013</td>\n",
       "      <td>CO</td>\n",
       "      <td>Colorado</td>\n",
       "      <td>YRBSS</td>\n",
       "      <td>Alcohol</td>\n",
       "      <td>Alcohol use among youth</td>\n",
       "      <td>NaN</td>\n",
       "      <td>%</td>\n",
       "      <td>CrdPrev</td>\n",
       "      <td>...</td>\n",
       "      <td>ALC</td>\n",
       "      <td>ALC1_1</td>\n",
       "      <td>NaN</td>\n",
       "      <td>8</td>\n",
       "      <td>OVERALL</td>\n",
       "      <td>OVR</td>\n",
       "      <td>NaN</td>\n",
       "      <td>NaN</td>\n",
       "      <td>NaN</td>\n",
       "      <td>NaN</td>\n",
       "    </tr>\n",
       "    <tr>\n",
       "      <th>2</th>\n",
       "      <td>2013</td>\n",
       "      <td>2013</td>\n",
       "      <td>CT</td>\n",
       "      <td>Connecticut</td>\n",
       "      <td>YRBSS</td>\n",
       "      <td>Alcohol</td>\n",
       "      <td>Alcohol use among youth</td>\n",
       "      <td>NaN</td>\n",
       "      <td>%</td>\n",
       "      <td>CrdPrev</td>\n",
       "      <td>...</td>\n",
       "      <td>ALC</td>\n",
       "      <td>ALC1_1</td>\n",
       "      <td>NaN</td>\n",
       "      <td>9</td>\n",
       "      <td>OVERALL</td>\n",
       "      <td>OVR</td>\n",
       "      <td>NaN</td>\n",
       "      <td>NaN</td>\n",
       "      <td>NaN</td>\n",
       "      <td>NaN</td>\n",
       "    </tr>\n",
       "    <tr>\n",
       "      <th>3</th>\n",
       "      <td>2013</td>\n",
       "      <td>2013</td>\n",
       "      <td>DC</td>\n",
       "      <td>District of Columbia</td>\n",
       "      <td>YRBSS</td>\n",
       "      <td>Alcohol</td>\n",
       "      <td>Alcohol use among youth</td>\n",
       "      <td>NaN</td>\n",
       "      <td>%</td>\n",
       "      <td>CrdPrev</td>\n",
       "      <td>...</td>\n",
       "      <td>ALC</td>\n",
       "      <td>ALC1_1</td>\n",
       "      <td>NaN</td>\n",
       "      <td>11</td>\n",
       "      <td>OVERALL</td>\n",
       "      <td>OVR</td>\n",
       "      <td>NaN</td>\n",
       "      <td>NaN</td>\n",
       "      <td>NaN</td>\n",
       "      <td>NaN</td>\n",
       "    </tr>\n",
       "    <tr>\n",
       "      <th>4</th>\n",
       "      <td>2013</td>\n",
       "      <td>2013</td>\n",
       "      <td>DE</td>\n",
       "      <td>Delaware</td>\n",
       "      <td>YRBSS</td>\n",
       "      <td>Alcohol</td>\n",
       "      <td>Alcohol use among youth</td>\n",
       "      <td>NaN</td>\n",
       "      <td>%</td>\n",
       "      <td>CrdPrev</td>\n",
       "      <td>...</td>\n",
       "      <td>ALC</td>\n",
       "      <td>ALC1_1</td>\n",
       "      <td>NaN</td>\n",
       "      <td>10</td>\n",
       "      <td>OVERALL</td>\n",
       "      <td>OVR</td>\n",
       "      <td>NaN</td>\n",
       "      <td>NaN</td>\n",
       "      <td>NaN</td>\n",
       "      <td>NaN</td>\n",
       "    </tr>\n",
       "  </tbody>\n",
       "</table>\n",
       "<p>5 rows × 34 columns</p>\n",
       "</div>"
      ],
      "text/plain": [
       "   YearStart  YearEnd LocationAbbr          LocationDesc DataSource    Topic  \\\n",
       "0       2013     2013           CA            California      YRBSS  Alcohol   \n",
       "1       2013     2013           CO              Colorado      YRBSS  Alcohol   \n",
       "2       2013     2013           CT           Connecticut      YRBSS  Alcohol   \n",
       "3       2013     2013           DC  District of Columbia      YRBSS  Alcohol   \n",
       "4       2013     2013           DE              Delaware      YRBSS  Alcohol   \n",
       "\n",
       "                  Question Response DataValueUnit DataValueTypeID  \\\n",
       "0  Alcohol use among youth      NaN             %         CrdPrev   \n",
       "1  Alcohol use among youth      NaN             %         CrdPrev   \n",
       "2  Alcohol use among youth      NaN             %         CrdPrev   \n",
       "3  Alcohol use among youth      NaN             %         CrdPrev   \n",
       "4  Alcohol use among youth      NaN             %         CrdPrev   \n",
       "\n",
       "         ...        TopicID QuestionID  ResponseID LocationID  \\\n",
       "0        ...            ALC     ALC1_1         NaN          6   \n",
       "1        ...            ALC     ALC1_1         NaN          8   \n",
       "2        ...            ALC     ALC1_1         NaN          9   \n",
       "3        ...            ALC     ALC1_1         NaN         11   \n",
       "4        ...            ALC     ALC1_1         NaN         10   \n",
       "\n",
       "  StratificationCategoryID1  StratificationID1  StratificationCategoryID2  \\\n",
       "0                   OVERALL                OVR                        NaN   \n",
       "1                   OVERALL                OVR                        NaN   \n",
       "2                   OVERALL                OVR                        NaN   \n",
       "3                   OVERALL                OVR                        NaN   \n",
       "4                   OVERALL                OVR                        NaN   \n",
       "\n",
       "  StratificationID2 StratificationCategoryID3 StratificationID3  \n",
       "0               NaN                       NaN               NaN  \n",
       "1               NaN                       NaN               NaN  \n",
       "2               NaN                       NaN               NaN  \n",
       "3               NaN                       NaN               NaN  \n",
       "4               NaN                       NaN               NaN  \n",
       "\n",
       "[5 rows x 34 columns]"
      ]
     },
     "execution_count": 10,
     "metadata": {},
     "output_type": "execute_result"
    }
   ],
   "source": [
    "# Take a peek at the first few rows of data\n",
    "my_dataframe.head(5)"
   ]
  },
  {
   "cell_type": "code",
   "execution_count": 13,
   "metadata": {
    "collapsed": false,
    "deletable": true,
    "editable": true
   },
   "outputs": [
    {
     "data": {
      "text/html": [
       "<div>\n",
       "<table border=\"1\" class=\"dataframe\">\n",
       "  <thead>\n",
       "    <tr style=\"text-align: right;\">\n",
       "      <th></th>\n",
       "      <th>YearStart</th>\n",
       "      <th>YearEnd</th>\n",
       "      <th>DataValueAlt</th>\n",
       "      <th>LowConfidenceLimit</th>\n",
       "      <th>HighConfidenceLimit</th>\n",
       "    </tr>\n",
       "  </thead>\n",
       "  <tbody>\n",
       "    <tr>\n",
       "      <th>count</th>\n",
       "      <td>237961.000000</td>\n",
       "      <td>237961.000000</td>\n",
       "      <td>1.659960e+05</td>\n",
       "      <td>141388.000000</td>\n",
       "      <td>141388.000000</td>\n",
       "    </tr>\n",
       "    <tr>\n",
       "      <th>mean</th>\n",
       "      <td>2012.678254</td>\n",
       "      <td>2012.723833</td>\n",
       "      <td>9.659927e+02</td>\n",
       "      <td>60.392008</td>\n",
       "      <td>74.255692</td>\n",
       "    </tr>\n",
       "    <tr>\n",
       "      <th>std</th>\n",
       "      <td>1.367197</td>\n",
       "      <td>1.275515</td>\n",
       "      <td>1.884835e+04</td>\n",
       "      <td>102.967598</td>\n",
       "      <td>119.295383</td>\n",
       "    </tr>\n",
       "    <tr>\n",
       "      <th>min</th>\n",
       "      <td>2001.000000</td>\n",
       "      <td>2001.000000</td>\n",
       "      <td>0.000000e+00</td>\n",
       "      <td>0.000000</td>\n",
       "      <td>0.490000</td>\n",
       "    </tr>\n",
       "    <tr>\n",
       "      <th>25%</th>\n",
       "      <td>2012.000000</td>\n",
       "      <td>2012.000000</td>\n",
       "      <td>2.020000e+01</td>\n",
       "      <td>13.000000</td>\n",
       "      <td>19.700000</td>\n",
       "    </tr>\n",
       "    <tr>\n",
       "      <th>50%</th>\n",
       "      <td>2013.000000</td>\n",
       "      <td>2013.000000</td>\n",
       "      <td>4.830000e+01</td>\n",
       "      <td>34.100000</td>\n",
       "      <td>48.600000</td>\n",
       "    </tr>\n",
       "    <tr>\n",
       "      <th>75%</th>\n",
       "      <td>2014.000000</td>\n",
       "      <td>2014.000000</td>\n",
       "      <td>8.500000e+01</td>\n",
       "      <td>63.600000</td>\n",
       "      <td>77.100000</td>\n",
       "    </tr>\n",
       "    <tr>\n",
       "      <th>max</th>\n",
       "      <td>2014.000000</td>\n",
       "      <td>2014.000000</td>\n",
       "      <td>4.022808e+06</td>\n",
       "      <td>1293.000000</td>\n",
       "      <td>2088.000000</td>\n",
       "    </tr>\n",
       "  </tbody>\n",
       "</table>\n",
       "</div>"
      ],
      "text/plain": [
       "           YearStart        YearEnd  DataValueAlt  LowConfidenceLimit  \\\n",
       "count  237961.000000  237961.000000  1.659960e+05       141388.000000   \n",
       "mean     2012.678254    2012.723833  9.659927e+02           60.392008   \n",
       "std         1.367197       1.275515  1.884835e+04          102.967598   \n",
       "min      2001.000000    2001.000000  0.000000e+00            0.000000   \n",
       "25%      2012.000000    2012.000000  2.020000e+01           13.000000   \n",
       "50%      2013.000000    2013.000000  4.830000e+01           34.100000   \n",
       "75%      2014.000000    2014.000000  8.500000e+01           63.600000   \n",
       "max      2014.000000    2014.000000  4.022808e+06         1293.000000   \n",
       "\n",
       "       HighConfidenceLimit  \n",
       "count        141388.000000  \n",
       "mean             74.255692  \n",
       "std             119.295383  \n",
       "min               0.490000  \n",
       "25%              19.700000  \n",
       "50%              48.600000  \n",
       "75%              77.100000  \n",
       "max            2088.000000  "
      ]
     },
     "execution_count": 13,
     "metadata": {},
     "output_type": "execute_result"
    }
   ],
   "source": [
    "my_dataframe.describe()"
   ]
  },
  {
   "cell_type": "code",
   "execution_count": 16,
   "metadata": {
    "collapsed": false,
    "deletable": true,
    "editable": true
   },
   "outputs": [
    {
     "data": {
      "text/plain": [
       "Index([u'YearStart', u'YearEnd', u'LocationAbbr', u'LocationDesc',\n",
       "       u'DataSource', u'Topic', u'Question', u'Response', u'DataValueUnit',\n",
       "       u'DataValueTypeID', u'DataValueType', u'DataValue', u'DataValueAlt',\n",
       "       u'DataValueFootnoteSymbol', u'DatavalueFootnote', u'LowConfidenceLimit',\n",
       "       u'HighConfidenceLimit', u'StratificationCategory1', u'Stratification1',\n",
       "       u'StratificationCategory2', u'Stratification2',\n",
       "       u'StratificationCategory3', u'Stratification3', u'GeoLocation',\n",
       "       u'TopicID', u'QuestionID', u'ResponseID', u'LocationID',\n",
       "       u'StratificationCategoryID1', u'StratificationID1',\n",
       "       u'StratificationCategoryID2', u'StratificationID2',\n",
       "       u'StratificationCategoryID3', u'StratificationID3'],\n",
       "      dtype='object')"
      ]
     },
     "execution_count": 16,
     "metadata": {},
     "output_type": "execute_result"
    }
   ],
   "source": [
    "my_dataframe.columns"
   ]
  },
  {
   "cell_type": "code",
   "execution_count": 17,
   "metadata": {
    "collapsed": false,
    "deletable": true,
    "editable": true
   },
   "outputs": [
    {
     "data": {
      "text/plain": [
       "YearStart                    237961\n",
       "YearEnd                      237961\n",
       "LocationAbbr                 237961\n",
       "LocationDesc                 237961\n",
       "DataSource                   237961\n",
       "Topic                        237961\n",
       "Question                     237961\n",
       "Response                      77856\n",
       "DataValueUnit                205218\n",
       "DataValueTypeID              237961\n",
       "DataValueType                237961\n",
       "DataValue                    189413\n",
       "DataValueAlt                 165996\n",
       "DataValueFootnoteSymbol      128405\n",
       "DatavalueFootnote            128222\n",
       "LowConfidenceLimit           141388\n",
       "HighConfidenceLimit          141388\n",
       "StratificationCategory1      237961\n",
       "Stratification1              237961\n",
       "StratificationCategory2       77856\n",
       "Stratification2               77856\n",
       "StratificationCategory3       77856\n",
       "Stratification3               77856\n",
       "GeoLocation                  236523\n",
       "TopicID                      237961\n",
       "QuestionID                   237961\n",
       "ResponseID                    77856\n",
       "LocationID                   237961\n",
       "StratificationCategoryID1    237961\n",
       "StratificationID1            237961\n",
       "StratificationCategoryID2     77857\n",
       "StratificationID2             77857\n",
       "StratificationCategoryID3     77856\n",
       "StratificationID3             77856\n",
       "dtype: int64"
      ]
     },
     "execution_count": 17,
     "metadata": {},
     "output_type": "execute_result"
    }
   ],
   "source": [
    "my_dataframe."
   ]
  },
  {
   "cell_type": "code",
   "execution_count": null,
   "metadata": {
    "collapsed": true
   },
   "outputs": [],
   "source": []
  }
 ],
 "metadata": {
  "kernelspec": {
   "display_name": "Python 2",
   "language": "python",
   "name": "python2"
  },
  "language_info": {
   "codemirror_mode": {
    "name": "ipython",
    "version": 2
   },
   "file_extension": ".py",
   "mimetype": "text/x-python",
   "name": "python",
   "nbconvert_exporter": "python",
   "pygments_lexer": "ipython2",
   "version": "2.7.6"
  }
 },
 "nbformat": 4,
 "nbformat_minor": 2
}
